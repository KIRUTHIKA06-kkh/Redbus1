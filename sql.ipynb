{
 "cells": [
  {
   "cell_type": "code",
   "execution_count": 1,
   "metadata": {},
   "outputs": [],
   "source": [
    "import pandas as pd\n",
    "import numpy as np"
   ]
  },
  {
   "cell_type": "markdown",
   "metadata": {},
   "source": [
    "All state details"
   ]
  },
  {
   "cell_type": "code",
   "execution_count": 2,
   "metadata": {},
   "outputs": [],
   "source": [
    "df_ap=pd.read_csv('all_details_ap.csv')\n",
    "df_k=pd.read_csv('all_details_k.csv')\n",
    "df_t=pd.read_csv('all_details_t.csv')\n",
    "df_kad=pd.read_csv('all_details_kad.csv')\n",
    "df_r=pd.read_csv('all_details_r.csv')\n",
    "df_sb=pd.read_csv('all_details_sb.csv')\n",
    "df_hp=pd.read_csv('all_details_hp.csv')\n",
    "df_a=pd.read_csv('all_details_a.csv')\n",
    "df_up=pd.read_csv('all_details_up.csv')\n",
    "df_b=pd.read_csv('all_details_b.csv')"
   ]
  },
  {
   "cell_type": "code",
   "execution_count": 3,
   "metadata": {},
   "outputs": [
    {
     "data": {
      "text/html": [
       "<div>\n",
       "<style scoped>\n",
       "    .dataframe tbody tr th:only-of-type {\n",
       "        vertical-align: middle;\n",
       "    }\n",
       "\n",
       "    .dataframe tbody tr th {\n",
       "        vertical-align: top;\n",
       "    }\n",
       "\n",
       "    .dataframe thead th {\n",
       "        text-align: right;\n",
       "    }\n",
       "</style>\n",
       "<table border=\"1\" class=\"dataframe\">\n",
       "  <thead>\n",
       "    <tr style=\"text-align: right;\">\n",
       "      <th></th>\n",
       "      <th>Route_name</th>\n",
       "      <th>Route_link</th>\n",
       "      <th>Bus_name</th>\n",
       "      <th>Bus_type</th>\n",
       "      <th>Departing_time</th>\n",
       "      <th>Duration</th>\n",
       "      <th>Reaching_time</th>\n",
       "      <th>Star_rating</th>\n",
       "      <th>Price</th>\n",
       "      <th>Seat_availability</th>\n",
       "    </tr>\n",
       "  </thead>\n",
       "  <tbody>\n",
       "    <tr>\n",
       "      <th>0</th>\n",
       "      <td>Hyderabad to Vijayawada</td>\n",
       "      <td>https://www.redbus.in/bus-tickets/hyderabad-to...</td>\n",
       "      <td>FRESHBUS</td>\n",
       "      <td>Electric A/C Seater (2+2)</td>\n",
       "      <td>22:55</td>\n",
       "      <td>06h 15m</td>\n",
       "      <td>05:10</td>\n",
       "      <td>4.6</td>\n",
       "      <td>649.00</td>\n",
       "      <td>25 Seats available</td>\n",
       "    </tr>\n",
       "    <tr>\n",
       "      <th>1</th>\n",
       "      <td>Hyderabad to Vijayawada</td>\n",
       "      <td>https://www.redbus.in/bus-tickets/hyderabad-to...</td>\n",
       "      <td>IntrCity SmartBus</td>\n",
       "      <td>Bharat Benz A/C Seater /Sleeper (2+1)</td>\n",
       "      <td>23:50</td>\n",
       "      <td>05h 45m</td>\n",
       "      <td>05:35</td>\n",
       "      <td>4.4</td>\n",
       "      <td>549.00</td>\n",
       "      <td>31 Seats available</td>\n",
       "    </tr>\n",
       "    <tr>\n",
       "      <th>2</th>\n",
       "      <td>Hyderabad to Vijayawada</td>\n",
       "      <td>https://www.redbus.in/bus-tickets/hyderabad-to...</td>\n",
       "      <td>IntrCity SmartBus</td>\n",
       "      <td>Scania AC Multi Axle Sleeper (2+1)</td>\n",
       "      <td>23:59</td>\n",
       "      <td>06h 31m</td>\n",
       "      <td>06:30</td>\n",
       "      <td>4.5</td>\n",
       "      <td>1089.00</td>\n",
       "      <td>15 Seats available</td>\n",
       "    </tr>\n",
       "    <tr>\n",
       "      <th>3</th>\n",
       "      <td>Hyderabad to Vijayawada</td>\n",
       "      <td>https://www.redbus.in/bus-tickets/hyderabad-to...</td>\n",
       "      <td>AdSai RK Travels</td>\n",
       "      <td>Non A/C Seater / Sleeper (2+1)</td>\n",
       "      <td>21:50</td>\n",
       "      <td>06h 40m</td>\n",
       "      <td>04:30</td>\n",
       "      <td>3.9</td>\n",
       "      <td>560.00</td>\n",
       "      <td>14 Seats available</td>\n",
       "    </tr>\n",
       "    <tr>\n",
       "      <th>4</th>\n",
       "      <td>Hyderabad to Vijayawada</td>\n",
       "      <td>https://www.redbus.in/bus-tickets/hyderabad-to...</td>\n",
       "      <td>FRESHBUS</td>\n",
       "      <td>Electric A/C Seater (2+2)</td>\n",
       "      <td>13:35</td>\n",
       "      <td>05h 50m</td>\n",
       "      <td>19:25</td>\n",
       "      <td>4.5</td>\n",
       "      <td>499.00</td>\n",
       "      <td>26 Seats available</td>\n",
       "    </tr>\n",
       "    <tr>\n",
       "      <th>...</th>\n",
       "      <td>...</td>\n",
       "      <td>...</td>\n",
       "      <td>...</td>\n",
       "      <td>...</td>\n",
       "      <td>...</td>\n",
       "      <td>...</td>\n",
       "      <td>...</td>\n",
       "      <td>...</td>\n",
       "      <td>...</td>\n",
       "      <td>...</td>\n",
       "    </tr>\n",
       "    <tr>\n",
       "      <th>7705</th>\n",
       "      <td>Gopalganj (Bihar) to Lucknow</td>\n",
       "      <td>https://www.redbus.in/bus-tickets/gopalganj-to...</td>\n",
       "      <td>Shree Balajee Travels And Cargo</td>\n",
       "      <td>A/C Seater / Sleeper (2+2)</td>\n",
       "      <td>20:00</td>\n",
       "      <td>07h 30m</td>\n",
       "      <td>03:30</td>\n",
       "      <td>1.3</td>\n",
       "      <td>1079.00</td>\n",
       "      <td>72 Seats available</td>\n",
       "    </tr>\n",
       "    <tr>\n",
       "      <th>7706</th>\n",
       "      <td>Gopalganj (Bihar) to Lucknow</td>\n",
       "      <td>https://www.redbus.in/bus-tickets/gopalganj-to...</td>\n",
       "      <td>Travel Point World LLP</td>\n",
       "      <td>A/C Seater / Sleeper (2+2)</td>\n",
       "      <td>20:20</td>\n",
       "      <td>07h 00m</td>\n",
       "      <td>03:20</td>\n",
       "      <td>1.6</td>\n",
       "      <td>1999.00</td>\n",
       "      <td>38 Seats available</td>\n",
       "    </tr>\n",
       "    <tr>\n",
       "      <th>7707</th>\n",
       "      <td>Gopalganj (Bihar) to Lucknow</td>\n",
       "      <td>https://www.redbus.in/bus-tickets/gopalganj-to...</td>\n",
       "      <td>Kusum Travels and Logistics</td>\n",
       "      <td>A/C Seater / Sleeper (2+1)</td>\n",
       "      <td>17:30</td>\n",
       "      <td>08h 15m</td>\n",
       "      <td>01:45</td>\n",
       "      <td>1.4</td>\n",
       "      <td>1428.57</td>\n",
       "      <td>40 Seats available</td>\n",
       "    </tr>\n",
       "    <tr>\n",
       "      <th>7708</th>\n",
       "      <td>Gopalganj (Bihar) to Lucknow</td>\n",
       "      <td>https://www.redbus.in/bus-tickets/gopalganj-to...</td>\n",
       "      <td>Shiv Mahima Travels</td>\n",
       "      <td>A/C Seater / Sleeper (2+2)</td>\n",
       "      <td>20:20</td>\n",
       "      <td>07h 39m</td>\n",
       "      <td>03:59</td>\n",
       "      <td>1.0</td>\n",
       "      <td>1141.90</td>\n",
       "      <td>56 Seats available</td>\n",
       "    </tr>\n",
       "    <tr>\n",
       "      <th>7709</th>\n",
       "      <td>Muzaffarpur (Bihar) to Bihar Sharif</td>\n",
       "      <td>https://www.redbus.in/bus-tickets/muzaffarpur-...</td>\n",
       "      <td>Bihar state road transport corporation (BSRTC)...</td>\n",
       "      <td>AC Seater (2+2)</td>\n",
       "      <td>18:00</td>\n",
       "      <td>05h 30m</td>\n",
       "      <td>23:30</td>\n",
       "      <td>3.8</td>\n",
       "      <td>275.00</td>\n",
       "      <td>0</td>\n",
       "    </tr>\n",
       "  </tbody>\n",
       "</table>\n",
       "<p>7710 rows × 10 columns</p>\n",
       "</div>"
      ],
      "text/plain": [
       "                               Route_name  \\\n",
       "0                 Hyderabad to Vijayawada   \n",
       "1                 Hyderabad to Vijayawada   \n",
       "2                 Hyderabad to Vijayawada   \n",
       "3                 Hyderabad to Vijayawada   \n",
       "4                 Hyderabad to Vijayawada   \n",
       "...                                   ...   \n",
       "7705         Gopalganj (Bihar) to Lucknow   \n",
       "7706         Gopalganj (Bihar) to Lucknow   \n",
       "7707         Gopalganj (Bihar) to Lucknow   \n",
       "7708         Gopalganj (Bihar) to Lucknow   \n",
       "7709  Muzaffarpur (Bihar) to Bihar Sharif   \n",
       "\n",
       "                                             Route_link  \\\n",
       "0     https://www.redbus.in/bus-tickets/hyderabad-to...   \n",
       "1     https://www.redbus.in/bus-tickets/hyderabad-to...   \n",
       "2     https://www.redbus.in/bus-tickets/hyderabad-to...   \n",
       "3     https://www.redbus.in/bus-tickets/hyderabad-to...   \n",
       "4     https://www.redbus.in/bus-tickets/hyderabad-to...   \n",
       "...                                                 ...   \n",
       "7705  https://www.redbus.in/bus-tickets/gopalganj-to...   \n",
       "7706  https://www.redbus.in/bus-tickets/gopalganj-to...   \n",
       "7707  https://www.redbus.in/bus-tickets/gopalganj-to...   \n",
       "7708  https://www.redbus.in/bus-tickets/gopalganj-to...   \n",
       "7709  https://www.redbus.in/bus-tickets/muzaffarpur-...   \n",
       "\n",
       "                                               Bus_name  \\\n",
       "0                                              FRESHBUS   \n",
       "1                                     IntrCity SmartBus   \n",
       "2                                     IntrCity SmartBus   \n",
       "3                                      AdSai RK Travels   \n",
       "4                                              FRESHBUS   \n",
       "...                                                 ...   \n",
       "7705                    Shree Balajee Travels And Cargo   \n",
       "7706                             Travel Point World LLP   \n",
       "7707                        Kusum Travels and Logistics   \n",
       "7708                                Shiv Mahima Travels   \n",
       "7709  Bihar state road transport corporation (BSRTC)...   \n",
       "\n",
       "                                   Bus_type Departing_time Duration  \\\n",
       "0                 Electric A/C Seater (2+2)          22:55  06h 15m   \n",
       "1     Bharat Benz A/C Seater /Sleeper (2+1)          23:50  05h 45m   \n",
       "2        Scania AC Multi Axle Sleeper (2+1)          23:59  06h 31m   \n",
       "3            Non A/C Seater / Sleeper (2+1)          21:50  06h 40m   \n",
       "4                 Electric A/C Seater (2+2)          13:35  05h 50m   \n",
       "...                                     ...            ...      ...   \n",
       "7705             A/C Seater / Sleeper (2+2)          20:00  07h 30m   \n",
       "7706             A/C Seater / Sleeper (2+2)          20:20  07h 00m   \n",
       "7707             A/C Seater / Sleeper (2+1)          17:30  08h 15m   \n",
       "7708             A/C Seater / Sleeper (2+2)          20:20  07h 39m   \n",
       "7709                        AC Seater (2+2)          18:00  05h 30m   \n",
       "\n",
       "     Reaching_time  Star_rating    Price   Seat_availability  \n",
       "0            05:10          4.6   649.00  25 Seats available  \n",
       "1            05:35          4.4   549.00  31 Seats available  \n",
       "2            06:30          4.5  1089.00  15 Seats available  \n",
       "3            04:30          3.9   560.00  14 Seats available  \n",
       "4            19:25          4.5   499.00  26 Seats available  \n",
       "...            ...          ...      ...                 ...  \n",
       "7705         03:30          1.3  1079.00  72 Seats available  \n",
       "7706         03:20          1.6  1999.00  38 Seats available  \n",
       "7707         01:45          1.4  1428.57  40 Seats available  \n",
       "7708         03:59          1.0  1141.90  56 Seats available  \n",
       "7709         23:30          3.8   275.00                   0  \n",
       "\n",
       "[7710 rows x 10 columns]"
      ]
     },
     "execution_count": 3,
     "metadata": {},
     "output_type": "execute_result"
    }
   ],
   "source": [
    "redbus_df=pd.concat([df_ap,df_k,df_t,df_kad,df_r,df_sb,df_hp,df_a,df_up,df_b],ignore_index=True)\n",
    "redbus_df"
   ]
  },
  {
   "cell_type": "markdown",
   "metadata": {},
   "source": [
    "Data Cleaning"
   ]
  },
  {
   "cell_type": "code",
   "execution_count": 27,
   "metadata": {},
   "outputs": [
    {
     "name": "stdout",
     "output_type": "stream",
     "text": [
      "<class 'pandas.core.frame.DataFrame'>\n",
      "RangeIndex: 7710 entries, 0 to 7709\n",
      "Data columns (total 10 columns):\n",
      " #   Column             Non-Null Count  Dtype  \n",
      "---  ------             --------------  -----  \n",
      " 0   Route_name         7710 non-null   object \n",
      " 1   Route_link         7710 non-null   object \n",
      " 2   Bus_name           7710 non-null   object \n",
      " 3   Bus_type           7710 non-null   object \n",
      " 4   Departing_time     7710 non-null   object \n",
      " 5   Duration           7710 non-null   object \n",
      " 6   Reaching_time      7710 non-null   object \n",
      " 7   Star_rating        7710 non-null   float64\n",
      " 8   Price              7710 non-null   float64\n",
      " 9   Seat_availability  7710 non-null   object \n",
      "dtypes: float64(2), object(8)\n",
      "memory usage: 602.5+ KB\n"
     ]
    }
   ],
   "source": [
    "redbus_df.info()"
   ]
  },
  {
   "cell_type": "code",
   "execution_count": 28,
   "metadata": {},
   "outputs": [
    {
     "data": {
      "text/plain": [
       "0        649.00\n",
       "1        549.00\n",
       "2       1089.00\n",
       "3        560.00\n",
       "4        499.00\n",
       "         ...   \n",
       "7705    1079.00\n",
       "7706    1999.00\n",
       "7707    1428.57\n",
       "7708    1141.90\n",
       "7709     275.00\n",
       "Name: Price, Length: 7710, dtype: float64"
      ]
     },
     "execution_count": 28,
     "metadata": {},
     "output_type": "execute_result"
    }
   ],
   "source": [
    "redbus_df[\"Price\"]=redbus_df[\"Price\"].astype(float)\n",
    "redbus_df[\"Price\"].fillna(0)"
   ]
  },
  {
   "cell_type": "code",
   "execution_count": 29,
   "metadata": {},
   "outputs": [],
   "source": [
    "redbus_df[\"Departing_time\"]=pd.to_datetime(redbus_df[\"Departing_time\"],format=\"%H:%M\").dt.strftime(\"%H:%M\")\n",
    "redbus_df[\"Reaching_time\"]=pd.to_datetime(redbus_df[\"Reaching_time\"],format=\"%H:%M\").dt.strftime(\"%H:%M\")"
   ]
  },
  {
   "cell_type": "code",
   "execution_count": 30,
   "metadata": {},
   "outputs": [
    {
     "name": "stdout",
     "output_type": "stream",
     "text": [
      "<class 'str'>\n"
     ]
    }
   ],
   "source": [
    "print(type(redbus_df['Departing_time'][0]))"
   ]
  },
  {
   "cell_type": "code",
   "execution_count": 31,
   "metadata": {},
   "outputs": [
    {
     "name": "stdout",
     "output_type": "stream",
     "text": [
      "<class 'str'>\n"
     ]
    }
   ],
   "source": [
    "print(type(redbus_df['Reaching_time'][0]))"
   ]
  },
  {
   "cell_type": "code",
   "execution_count": 40,
   "metadata": {},
   "outputs": [
    {
     "data": {
      "text/plain": [
       "dtype('O')"
      ]
     },
     "execution_count": 40,
     "metadata": {},
     "output_type": "execute_result"
    }
   ],
   "source": [
    "redbus_df['Seat_availability'].dtype"
   ]
  },
  {
   "cell_type": "code",
   "execution_count": 42,
   "metadata": {},
   "outputs": [],
   "source": [
    "redbus_df['Seat_availability']=redbus_df['Seat_availability'].str.replace(\"Seat_availability\",\"\").str[0]\n",
    "redbus_df['Seat_availability']=redbus_df['Seat_availability'].str.replace(\"Seat_availability\",\"\").str[0]"
   ]
  },
  {
   "cell_type": "code",
   "execution_count": 43,
   "metadata": {},
   "outputs": [
    {
     "data": {
      "text/html": [
       "<div>\n",
       "<style scoped>\n",
       "    .dataframe tbody tr th:only-of-type {\n",
       "        vertical-align: middle;\n",
       "    }\n",
       "\n",
       "    .dataframe tbody tr th {\n",
       "        vertical-align: top;\n",
       "    }\n",
       "\n",
       "    .dataframe thead th {\n",
       "        text-align: right;\n",
       "    }\n",
       "</style>\n",
       "<table border=\"1\" class=\"dataframe\">\n",
       "  <thead>\n",
       "    <tr style=\"text-align: right;\">\n",
       "      <th></th>\n",
       "      <th>Route_name</th>\n",
       "      <th>Route_link</th>\n",
       "      <th>Bus_name</th>\n",
       "      <th>Bus_type</th>\n",
       "      <th>Departing_time</th>\n",
       "      <th>Duration</th>\n",
       "      <th>Reaching_time</th>\n",
       "      <th>Star_rating</th>\n",
       "      <th>Price</th>\n",
       "      <th>Seat_availability</th>\n",
       "    </tr>\n",
       "  </thead>\n",
       "  <tbody>\n",
       "  </tbody>\n",
       "</table>\n",
       "</div>"
      ],
      "text/plain": [
       "Empty DataFrame\n",
       "Columns: [Route_name, Route_link, Bus_name, Bus_type, Departing_time, Duration, Reaching_time, Star_rating, Price, Seat_availability]\n",
       "Index: []"
      ]
     },
     "execution_count": 43,
     "metadata": {},
     "output_type": "execute_result"
    }
   ],
   "source": [
    "redbus_df[redbus_df['Seat_availability']==\" \"]"
   ]
  },
  {
   "cell_type": "code",
   "execution_count": 44,
   "metadata": {},
   "outputs": [
    {
     "data": {
      "text/plain": [
       "0"
      ]
     },
     "execution_count": 44,
     "metadata": {},
     "output_type": "execute_result"
    }
   ],
   "source": [
    "len(redbus_df[redbus_df['Seat_availability']==0])"
   ]
  },
  {
   "cell_type": "code",
   "execution_count": 45,
   "metadata": {},
   "outputs": [
    {
     "data": {
      "text/plain": [
       "0       2\n",
       "1       3\n",
       "2       1\n",
       "3       1\n",
       "4       2\n",
       "       ..\n",
       "7705    7\n",
       "7706    3\n",
       "7707    4\n",
       "7708    5\n",
       "7709    0\n",
       "Name: Seat_availability, Length: 7710, dtype: object"
      ]
     },
     "execution_count": 45,
     "metadata": {},
     "output_type": "execute_result"
    }
   ],
   "source": [
    "redbus_df['Seat_availability']"
   ]
  },
  {
   "cell_type": "code",
   "execution_count": 46,
   "metadata": {},
   "outputs": [
    {
     "data": {
      "text/plain": [
       "Route_name            object\n",
       "Route_link            object\n",
       "Bus_name              object\n",
       "Bus_type              object\n",
       "Departing_time        object\n",
       "Duration              object\n",
       "Reaching_time         object\n",
       "Star_rating          float64\n",
       "Price                float64\n",
       "Seat_availability     object\n",
       "dtype: object"
      ]
     },
     "execution_count": 46,
     "metadata": {},
     "output_type": "execute_result"
    }
   ],
   "source": [
    "redbus_df.dtypes"
   ]
  },
  {
   "cell_type": "code",
   "execution_count": 47,
   "metadata": {},
   "outputs": [
    {
     "name": "stdout",
     "output_type": "stream",
     "text": [
      "<class 'pandas.core.frame.DataFrame'>\n",
      "RangeIndex: 7710 entries, 0 to 7709\n",
      "Data columns (total 10 columns):\n",
      " #   Column             Non-Null Count  Dtype  \n",
      "---  ------             --------------  -----  \n",
      " 0   Route_name         7710 non-null   object \n",
      " 1   Route_link         7710 non-null   object \n",
      " 2   Bus_name           7710 non-null   object \n",
      " 3   Bus_type           7710 non-null   object \n",
      " 4   Departing_time     7710 non-null   object \n",
      " 5   Duration           7710 non-null   object \n",
      " 6   Reaching_time      7710 non-null   object \n",
      " 7   Star_rating        7710 non-null   float64\n",
      " 8   Price              7710 non-null   float64\n",
      " 9   Seat_availability  7710 non-null   object \n",
      "dtypes: float64(2), object(8)\n",
      "memory usage: 602.5+ KB\n"
     ]
    }
   ],
   "source": [
    "redbus_df.info()"
   ]
  },
  {
   "cell_type": "code",
   "execution_count": 48,
   "metadata": {},
   "outputs": [],
   "source": [
    "redbus_df=redbus_df.replace({np.nan:None})"
   ]
  },
  {
   "cell_type": "code",
   "execution_count": 49,
   "metadata": {},
   "outputs": [],
   "source": [
    "redbus_df.to_csv('redbus_df.csv',index=False)"
   ]
  },
  {
   "cell_type": "markdown",
   "metadata": {},
   "source": [
    "Create MYSQL table"
   ]
  },
  {
   "cell_type": "code",
   "execution_count": 51,
   "metadata": {},
   "outputs": [],
   "source": [
    "import mysql.connector\n",
    "import pandas as pd\n",
    "\n",
    "mydb = mysql.connector.connect(\n",
    "  host=\"localhost\",\n",
    "  user=\"root\",\n",
    "  port=\"3306\",\n",
    "  database=\"redbus\",\n",
    "  password=\"181506\"\n",
    ")\n",
    "\n",
    "mycursor = mydb.cursor()\n"
   ]
  },
  {
   "cell_type": "code",
   "execution_count": 52,
   "metadata": {},
   "outputs": [
    {
     "name": "stdout",
     "output_type": "stream",
     "text": [
      "Table created successfully\n"
     ]
    }
   ],
   "source": [
    "query='''CREATE TABLE IF NOT EXISTS redbusdetails (\n",
    "    ID INT AUTO_INCREMENT PRIMARY KEY,\n",
    "    Route_name VARCHAR(255) NULL,\n",
    "    Route_link VARCHAR(255) NULL,\n",
    "    Bus_name VARCHAR(255) NOT NULL,\n",
    "    Bus_type VARCHAR(255) NOT NULL,\n",
    "    Departing_time VARCHAR(255) NOT NULL,\n",
    "    Duration VARCHAR(255) NOT NULL,\n",
    "    Reaching_time VARCHAR(255) NOT NULL,\n",
    "    Star_rating FLOAT NULL,\n",
    "    Price INT NULL,\n",
    "    Seat_availability VARCHAR(255) NOT NULL\n",
    ");'''\n",
    "\n",
    "mycursor.execute(query)\n",
    "\n",
    "print(\"Table created successfully\")"
   ]
  },
  {
   "cell_type": "code",
   "execution_count": 53,
   "metadata": {},
   "outputs": [
    {
     "name": "stdout",
     "output_type": "stream",
     "text": [
      "Values inserted successfully\n"
     ]
    }
   ],
   "source": [
    "insert_qurey='''INSERT INTO redbusdetails(\n",
    "                    Route_name,\n",
    "                    Route_link,\n",
    "                    Bus_name,\n",
    "                    Bus_type,\n",
    "                    Departing_time,\n",
    "                    Duration,\n",
    "                    Reaching_time,\n",
    "                    Star_rating,\n",
    "                    Price,\n",
    "                    Seat_availability)\n",
    "                VALUES( %s, %s, %s, %s, %s, %s, %s, %s, %s, %s)'''\n",
    "\n",
    "data=redbus_df.values.tolist()\n",
    "\n",
    "mycursor.executemany(insert_qurey,data)\n",
    "\n",
    "mydb.commit()\n",
    "\n",
    "print(\"Values inserted successfully\")"
   ]
  }
 ],
 "metadata": {
  "kernelspec": {
   "display_name": ".venv",
   "language": "python",
   "name": "python3"
  },
  "language_info": {
   "codemirror_mode": {
    "name": "ipython",
    "version": 3
   },
   "file_extension": ".py",
   "mimetype": "text/x-python",
   "name": "python",
   "nbconvert_exporter": "python",
   "pygments_lexer": "ipython3",
   "version": "3.12.7"
  }
 },
 "nbformat": 4,
 "nbformat_minor": 2
}
